{
  "nbformat": 4,
  "nbformat_minor": 0,
  "metadata": {
    "colab": {
      "provenance": [],
      "collapsed_sections": [],
      "authorship_tag": "ABX9TyMFw5p1JCS8/HwhRXBBw+d9",
      "include_colab_link": true
    },
    "kernelspec": {
      "name": "python3",
      "display_name": "Python 3"
    },
    "language_info": {
      "name": "python"
    }
  },
  "cells": [
    {
      "cell_type": "markdown",
      "metadata": {
        "id": "view-in-github",
        "colab_type": "text"
      },
      "source": [
        "<a href=\"https://colab.research.google.com/github/awero-manaxiy/Data_science_second_task/blob/main/Graph_analysis.ipynb\" target=\"_parent\"><img src=\"https://colab.research.google.com/assets/colab-badge.svg\" alt=\"Open In Colab\"/></a>"
      ]
    },
    {
      "cell_type": "markdown",
      "source": [
        "Ячейка кода ниже не работает, т.к. свой пароль я показывать никому не хочу!\n",
        "\n",
        "В ней я сначала нахожу id друзей членов группы, потом друзей друзей и объёдиняю эти два словаря.\n"
      ],
      "metadata": {
        "id": "upfBICUHXcIk"
      }
    },
    {
      "cell_type": "code",
      "source": [
        "import vk_api\n",
        "import csv\n",
        "import json\n",
        "\n",
        "\n",
        "with open('users_id.csv', mode='r', encoding='utf-8-sig') as ids:\n",
        "    reader = csv.reader(ids)\n",
        "    ds_group = {rows[0]: int(rows[1]) for rows in reader}\n",
        "\n",
        "with open(file='pass.txt', mode='r', encoding='UTF-8') as passwords:\n",
        "    for line in passwords:\n",
        "        login = line.split()[0]\n",
        "        password = line.split()[1]\n",
        "\n",
        "\n",
        "def auth_handler():\n",
        "\n",
        "    key = input(\"Enter authentication code: \")\n",
        "    remember_device = True\n",
        "\n",
        "    return key, remember_device\n",
        "\n",
        "\n",
        "my_session = vk_api.VkApi(login=login, password=password, auth_handler=auth_handler)\n",
        "my_session.auth(token_only=True)\n",
        "\n",
        "friends = {}\n",
        "with vk_api.VkRequestsPool(my_session) as pool:\n",
        "    for user_id in ds_group.values():\n",
        "        friends[user_id] = pool.method('friends.get', {\n",
        "            'user_id': user_id,\n",
        "        })\n",
        "\n",
        "for key, value in friends.items():\n",
        "    if value.ok:\n",
        "        friends[key] = tuple(value.result['items'])\n",
        "    else:\n",
        "        friends[key] = []\n",
        "\n",
        "friends_of_friends = {}\n",
        "with vk_api.VkRequestsPool(my_session) as pool:\n",
        "    for ids in friends.values():\n",
        "        for user_id in ids:\n",
        "            friends_of_friends[user_id] = pool.method('friends.get', {\n",
        "                'user_id': user_id,\n",
        "            })\n",
        "\n",
        "for key, value in friends_of_friends.items():\n",
        "    if value.ok:\n",
        "        friends_of_friends[key] = tuple(value.result['items'])\n",
        "    else:\n",
        "        friends_of_friends[key] = []\n",
        "\n",
        "complete_graph = {**friends, **friends_of_friends}\n",
        "complete_graph = {str(key): value for key, value in complete_graph.items() if value != []}\n",
        "print(len(complete_graph))\n",
        "with open(file='graph.json', mode='w', encoding='utf-8') as graph:\n",
        "    json.dump(complete_graph, graph)\n"
      ],
      "metadata": {
        "id": "GxYfc7PrXVMO"
      },
      "execution_count": null,
      "outputs": []
    },
    {
      "cell_type": "markdown",
      "source": [
        "Анализ графов; ds_group просто скопировал из предыдущего блока, т.к. без пароля тот не работает"
      ],
      "metadata": {
        "id": "uOWMsa6DX8EY"
      }
    },
    {
      "cell_type": "code",
      "execution_count": 17,
      "metadata": {
        "id": "pjNbpvOJWvUp"
      },
      "outputs": [],
      "source": [
        "import networkx as nx\n",
        "import json\n",
        "\n",
        "ds_group = {'Липин Роман Андреевич': 325969137, 'Беляков Николай Николаевич': 380898246,\n",
        "            'Сучков Артём Дмитриевич': 404306503, 'Беляева Татьяна': 258835769,\n",
        "            'Алферова Ирина Александровна': 166690832, 'Никитин Павел Александрович': 127123318,\n",
        "            'Денисова Анна Игоревна': 612775359, 'Глухарева Елизавета Семеновна': 474222811,\n",
        "            'Люльчак Павел Игоревич': 284809767, 'Юрлов Даниил Андреевич': 226972714,\n",
        "            'Анисимов Никита Станиславович': 222323979, 'Еременко Анастасия Юрьевна': 481812303,\n",
        "            'Сидоренко Александра Владимировна': 163926270, 'Орешников Даниил Борисович': 339103624,\n",
        "            'Ширинова Рена Афраил кызы': 187132254, 'Бусел Татьяна Васильевна': 161142420,\n",
        "            'Тенькаев Захар Валерьевич': 509082391}\n",
        "\n"
      ]
    },
    {
      "cell_type": "code",
      "source": [
        "with open(file='graph.json', mode='r', encoding='utf-8') as graph:\n",
        "    friends_dict = json.load(graph)\n",
        "\n",
        "friends_dict = {int(key): tuple(value) for key, value in friends_dict.items()}\n",
        "\n",
        "ds_group = {value: key for key, value in ds_group.items() if value in friends_dict.keys()}\n",
        "Graph_of_friends = nx.Graph(friends_dict)\n",
        "\n",
        "\n",
        "\n"
      ],
      "metadata": {
        "id": "NzVQ-kQ-YBjv"
      },
      "execution_count": 18,
      "outputs": []
    },
    {
      "cell_type": "code",
      "source": [
        "print(len(list(Graph_of_friends.nodes)))\n",
        "low_degree = [n for n, d in Graph_of_friends.degree() if d < 5]\n",
        "Graph_of_friends.remove_nodes_from(low_degree)\n",
        "print(len(list(Graph_of_friends.nodes)))\n"
      ],
      "metadata": {
        "colab": {
          "base_uri": "https://localhost:8080/"
        },
        "id": "qd9XxMgBsoe_",
        "outputId": "dbd9ab2b-2c40-4483-8f25-43faeede64e6"
      },
      "execution_count": 19,
      "outputs": [
        {
          "output_type": "stream",
          "name": "stdout",
          "text": [
            "456756\n",
            "11276\n"
          ]
        }
      ]
    },
    {
      "cell_type": "code",
      "source": [
        "degree_centrality_dict = {key: value for key, value \n",
        "                          in nx.degree_centrality(Graph_of_friends).items()\n",
        "                          if key in ds_group.keys()}\n",
        "betweenness_centrality_dict = {key: value for key, value \n",
        "                               in nx.betweenness_centrality(Graph_of_friends, k=10).items()\n",
        "                               if key in ds_group.keys()}\n",
        "eigenvector_centrality_dict = {key: value for key, value \n",
        "                               in nx.eigenvector_centrality(Graph_of_friends).items()\n",
        "                               if key in ds_group.keys()}\n",
        "pagerank_dict = {key: value for key, value \n",
        "                 in nx.pagerank(Graph_of_friends).items()\n",
        "                 if key in ds_group.keys()}\n",
        "closeness_centrality_dict = {key: nx.closeness_centrality(Graph_of_friends, u=key) for key \n",
        "                             in ds_group.keys()}\n",
        "\n",
        "\n",
        "                             "
      ],
      "metadata": {
        "id": "5n4mEz-sYE7u"
      },
      "execution_count": 20,
      "outputs": []
    },
    {
      "cell_type": "code",
      "source": [
        "print('Лидеры\\n')\n",
        "print('Центральность по близости:',\n",
        "    ds_group[max(closeness_centrality_dict, key=closeness_centrality_dict.get)])\n",
        "print('Степенная центральность:',\n",
        "    ds_group[max(degree_centrality_dict, key=degree_centrality_dict.get)])\n",
        "print('Центральность по посредничеству:',\n",
        "    ds_group[max(betweenness_centrality_dict, key=betweenness_centrality_dict.get)])\n",
        "print('Центральность по собственному вектору:',\n",
        "    ds_group[max(eigenvector_centrality_dict, key=eigenvector_centrality_dict.get)])\n",
        "print('Центральность PageRank:',\n",
        "    ds_group[max(pagerank_dict, key=pagerank_dict.get)])"
      ],
      "metadata": {
        "colab": {
          "base_uri": "https://localhost:8080/"
        },
        "id": "4NJaj76rYHYu",
        "outputId": "13608c02-a546-4a93-c8f4-23721ded6c83"
      },
      "execution_count": 21,
      "outputs": [
        {
          "output_type": "stream",
          "name": "stdout",
          "text": [
            "Лидеры\n",
            "\n",
            "Центральность по близости: Беляева Татьяна\n",
            "Степенная центральность: Липин Роман Андреевич\n",
            "Центральность по посредничеству: Липин Роман Андреевич\n",
            "Центральность по собственному вектору: Беляева Татьяна\n",
            "Центральность PageRank: Никитин Павел Александрович\n"
          ]
        }
      ]
    }
  ]
}